{
 "cells": [
  {
   "cell_type": "markdown",
   "metadata": {},
   "source": [
    "                                     DATA MINING\n",
    "\n"
   ]
  },
  {
   "cell_type": "markdown",
   "metadata": {},
   "source": [
    " * El data mining, tmabien conocido como mineria de datos, es el proceso de extraccion de patrones, conocimientos y correlaciones utiles a partir de grandes volumenes de datos.\n",
    "Esto se logra mediante la aplicacion de tecnicas de analisis de datos y algoritmos de aprendizaje automatico."
   ]
  },
  {
   "cell_type": "markdown",
   "metadata": {},
   "source": [
    "            CONCEPTOS DE D.M :"
   ]
  },
  {
   "cell_type": "markdown",
   "metadata": {},
   "source": [
    " - DataSet : Conjunto de datos recolectados y organizados para su analisis\n",
    "\n",
    " - Atributos : Caracteristicas o variables que describen los objetos del DataSet.\n",
    " \n",
    " - Registro : Un conjunto de atributos que describen a un objeto en el DataSet\n",
    "\n",
    " - Clasificacion : Asignacion de objetos a clases prdefinidas  en funcion de sus atributos\n",
    "\n",
    " - Regresion : Prediccion de un valor en funcion de los atributos de un objeto\n",
    "\n",
    " - Agrupamiento : Division de los objetos en grupos segun sus atributos, de manera que los objetos en un grupo sean similares entre si y diferentes a los objetos de los otros grupos.\n"
   ]
  },
  {
   "cell_type": "markdown",
   "metadata": {
    "vscode": {
     "languageId": "plaintext"
    }
   },
   "source": [
    "                             PROCESO DE DATA MINING\n",
    "                                  (CRISP-DM)"
   ]
  },
  {
   "cell_type": "markdown",
   "metadata": {},
   "source": [
    "    CRISP-DM (Cross - Industry Standard Process for Data Mining) es una metodologia\n",
    "       ampliamente utilizada que consta de las siguientes etapas:"
   ]
  },
  {
   "cell_type": "markdown",
   "metadata": {},
   "source": [
    " - Comprension del negocio: identificar y entender los objetivos del negocio y las necesidades en terminos de analisis de datos.\n",
    "\n",
    " - Comprension de los datos: Explorar, describir y evaluar la calidad de los datos disponibles.\n",
    "\n",
    " - Preparacion de los datos: Limpieaza, preparacion y preprocesamiento de datos para su uso en algoritmos de mineria de datos.\n",
    "\n",
    " - Modelado: seleccion y aplicacion de algoritmos y tecnicas de mineria de datos para construir modelos que describan o predigan patrones en los datos.\n",
    "\n",
    " - Evaluacion: Validar y evaluar los modelos oabtenidos para asegurar que cumplan con los objetivos del negocip.\n",
    "\n",
    " - Implementacion: Desplegar los modelos en la organiazcion y aplicarlos en la toma de decisiones del negocio."
   ]
  },
  {
   "cell_type": "markdown",
   "metadata": {},
   "source": []
  }
 ],
 "metadata": {
  "kernelspec": {
   "display_name": "datos",
   "language": "python",
   "name": "python3"
  },
  "language_info": {
   "name": "python",
   "version": "3.12.7"
  }
 },
 "nbformat": 4,
 "nbformat_minor": 2
}
